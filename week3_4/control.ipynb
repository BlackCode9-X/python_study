{
 "cells": [
  {
   "metadata": {},
   "cell_type": "markdown",
   "source": "if-elif-else (条件判断): 就像人生的十字路口，它让程序能够根据不同的条件，选择执行不同的代码路径。if-elif-else (条件判断): 就像人生的十字路口，它让程序能够根据不同的条件，选择执行不同的代码路径。",
   "id": "70defd1a51355150"
  },
  {
   "metadata": {
    "ExecuteTime": {
     "end_time": "2025-09-14T14:21:45.469025Z",
     "start_time": "2025-09-14T14:21:41.773192Z"
    }
   },
   "cell_type": "code",
   "source": [
    "x = int(input(\"Please enter an integer: \"))\n",
    "if x < 0:\n",
    "    x = 0\n",
    "    print('Negative changed to zero')\n",
    "elif x == 0:\n",
    "    print('Zero')\n",
    "elif x == 1:\n",
    "    print('single')\n",
    "else:\n",
    "    print('more')"
   ],
   "id": "6a53e70d0cbc6be5",
   "outputs": [
    {
     "name": "stdout",
     "output_type": "stream",
     "text": [
      "Zero\n"
     ]
    }
   ],
   "execution_count": 2
  },
  {
   "metadata": {},
   "cell_type": "markdown",
   "source": "如果是把一个值与多个常亮进行比较或者检查特定类型或属性，match语句更有用",
   "id": "26719f29e10318b4"
  },
  {
   "metadata": {},
   "cell_type": "markdown",
   "source": [
    "## for (遍历循环):\n",
    "当你有一个明确的列表或范围（比如一篮子苹果、一本书的每一页）需要逐一处理时，for循环是你的最佳工具。\n",
    "> for 语句不迭代算数递增数值，或是给予用户定义迭代步骤和结束条件的能力。而是在列表或字符串等任意序列的元素上迭代，按他们在序列中出现的顺序\n"
   ],
   "id": "748e92e6898fb56b"
  },
  {
   "metadata": {
    "ExecuteTime": {
     "end_time": "2025-09-14T14:25:45.148098Z",
     "start_time": "2025-09-14T14:25:45.144192Z"
    }
   },
   "cell_type": "code",
   "source": [
    "words = ['cat', 'window', 'dog']\n",
    "for w in words:\n",
    "    print(w, len(w))"
   ],
   "id": "603b4515214c21e2",
   "outputs": [
    {
     "name": "stdout",
     "output_type": "stream",
     "text": [
      "cat 3\n",
      "window 6\n",
      "dog 3\n"
     ]
    }
   ],
   "execution_count": 3
  },
  {
   "metadata": {},
   "cell_type": "markdown",
   "source": "在迭代中很难同时修改多项集的内容。更简单的方法是迭代多项集的副本或者创建新的多项集",
   "id": "4201234489b931cc"
  },
  {
   "metadata": {
    "ExecuteTime": {
     "end_time": "2025-09-14T14:30:10.405728Z",
     "start_time": "2025-09-14T14:30:10.401682Z"
    }
   },
   "cell_type": "code",
   "source": [
    "# 创建多项集\n",
    "users = {'Hans': 'active', 'David': 'inactive', 'Bruce': 'active'}\n",
    "\n",
    "# 迭代一个副本\n",
    "for user, status in users.copy().items():\n",
    "    if status == 'inactive':\n",
    "        del users[user]\n",
    "\n",
    "# 创建一个新副本\n",
    "active_users = {}\n",
    "for user, status in users.items():\n",
    "    if status == 'active':\n",
    "        active_users[user] = status\n"
   ],
   "id": "972af476cb1791d",
   "outputs": [],
   "execution_count": 4
  },
  {
   "metadata": {},
   "cell_type": "code",
   "outputs": [],
   "execution_count": null,
   "source": "",
   "id": "72b62a79d6d9a34e"
  },
  {
   "metadata": {},
   "cell_type": "markdown",
   "source": [
    "### range 函数\n",
    "> 用于生成等差数列\n",
    "range(start, end, step)"
   ],
   "id": "54b4f68d0485e0d3"
  },
  {
   "metadata": {
    "ExecuteTime": {
     "end_time": "2025-09-14T14:33:44.977201Z",
     "start_time": "2025-09-14T14:33:44.973630Z"
    }
   },
   "cell_type": "code",
   "source": [
    "for i in range(5):\n",
    "    print(i)"
   ],
   "id": "91515f734c224c54",
   "outputs": [
    {
     "name": "stdout",
     "output_type": "stream",
     "text": [
      "0\n",
      "1\n",
      "2\n",
      "3\n",
      "4\n"
     ]
    }
   ],
   "execution_count": 5
  },
  {
   "metadata": {
    "ExecuteTime": {
     "end_time": "2025-09-14T14:34:03.352844Z",
     "start_time": "2025-09-14T14:34:03.345018Z"
    }
   },
   "cell_type": "code",
   "source": "list(range(5, 10))",
   "id": "ef466bfe3a6444c9",
   "outputs": [
    {
     "data": {
      "text/plain": [
       "[5, 6, 7, 8, 9]"
      ]
     },
     "execution_count": 6,
     "metadata": {},
     "output_type": "execute_result"
    }
   ],
   "execution_count": 6
  },
  {
   "metadata": {
    "ExecuteTime": {
     "end_time": "2025-09-14T14:34:14.085966Z",
     "start_time": "2025-09-14T14:34:14.082087Z"
    }
   },
   "cell_type": "code",
   "source": "list(range(0,10,2))",
   "id": "3fd82268fac02412",
   "outputs": [
    {
     "data": {
      "text/plain": [
       "[0, 2, 4, 6, 8]"
      ]
     },
     "execution_count": 7,
     "metadata": {},
     "output_type": "execute_result"
    }
   ],
   "execution_count": 7
  },
  {
   "metadata": {
    "ExecuteTime": {
     "end_time": "2025-09-14T14:34:33.531642Z",
     "start_time": "2025-09-14T14:34:33.526768Z"
    }
   },
   "cell_type": "code",
   "source": "list(range(-10, -100, -30))",
   "id": "6883b27a07be1e5c",
   "outputs": [
    {
     "data": {
      "text/plain": [
       "[-10, -40, -70]"
      ]
     },
     "execution_count": 9,
     "metadata": {},
     "output_type": "execute_result"
    }
   ],
   "execution_count": 9
  },
  {
   "metadata": {},
   "cell_type": "markdown",
   "source": "",
   "id": "a34a21896b193ce2"
  },
  {
   "metadata": {
    "ExecuteTime": {
     "end_time": "2025-09-14T14:36:14.165137Z",
     "start_time": "2025-09-14T14:36:14.160887Z"
    }
   },
   "cell_type": "code",
   "source": "range(10)",
   "id": "a5d51045f8f6cd16",
   "outputs": [
    {
     "data": {
      "text/plain": [
       "range(0, 10)"
      ]
     },
     "execution_count": 10,
     "metadata": {},
     "output_type": "execute_result"
    }
   ],
   "execution_count": 10
  },
  {
   "metadata": {},
   "cell_type": "markdown",
   "source": [
    "range() 返回的对象在很多方面和列表的行为一样，但是和列表不一样。该对象只有在被迭代的时候才一个一个返回期望值，并没有真正返回一个含有全部项的列表，主要是为了节省空间。\n",
    "\n",
    "这种对象称为**可迭代对象 iterable**"
   ],
   "id": "a4f47d05b535e1b1"
  },
  {
   "metadata": {},
   "cell_type": "markdown",
   "source": [
    "### break 和 continue\n",
    "break 跳出最近的一层 for 或 while 循环\n",
    "\n",
    "continue 将继续执行循环的下一次迭代"
   ],
   "id": "b5cd374abe65a418"
  },
  {
   "metadata": {
    "ExecuteTime": {
     "end_time": "2025-09-14T14:43:29.683421Z",
     "start_time": "2025-09-14T14:43:29.679602Z"
    }
   },
   "cell_type": "code",
   "source": [
    "for n in range(2, 10):\n",
    "    for x in range(2, n):\n",
    "        if n % 2 == 0:\n",
    "            print(f\"{n} equals {x} * {n // x}\")\n",
    "            break"
   ],
   "id": "e17a02681b279938",
   "outputs": [
    {
     "name": "stdout",
     "output_type": "stream",
     "text": [
      "4 equals 2 * 2\n",
      "6 equals 2 * 3\n",
      "8 equals 2 * 4\n"
     ]
    }
   ],
   "execution_count": 11
  },
  {
   "metadata": {
    "ExecuteTime": {
     "end_time": "2025-09-14T14:44:11.839832Z",
     "start_time": "2025-09-14T14:44:11.836100Z"
    }
   },
   "cell_type": "code",
   "source": [
    "for num in range(2, 10):\n",
    "    if num % 2 == 0:\n",
    "        print(f\"Found an even number {num}\")\n",
    "        continue\n",
    "    print(f\"Found an odd number {num}\")"
   ],
   "id": "83875bc2d2a32a53",
   "outputs": [
    {
     "name": "stdout",
     "output_type": "stream",
     "text": [
      "Found an even number 2\n",
      "Found an odd number 3\n",
      "Found an even number 4\n",
      "Found an odd number 5\n",
      "Found an even number 6\n",
      "Found an odd number 7\n",
      "Found an even number 8\n",
      "Found an odd number 9\n"
     ]
    }
   ],
   "execution_count": 12
  },
  {
   "metadata": {},
   "cell_type": "markdown",
   "source": [
    "### 循环的 else 子句\n",
    "在 for 或 while 循环中 break 可能对应一个 else。如果循环在未执行 break 的情况下结束，else 会执行。"
   ],
   "id": "90fc4d236a46f874"
  },
  {
   "metadata": {
    "ExecuteTime": {
     "end_time": "2025-09-14T14:48:10.841885Z",
     "start_time": "2025-09-14T14:48:10.837471Z"
    }
   },
   "cell_type": "code",
   "source": [
    "### 搜索质数\n",
    "for n in range(2, 10):\n",
    "    for x in range(2, n):\n",
    "        if n % 2 == 0:\n",
    "            print(f\"{n} equals {x} * {n // x}\")\n",
    "            break\n",
    "        else:\n",
    "            # 循环到底未找到一个因数\n",
    "            print(n, 'is a prime number')"
   ],
   "id": "6badd10cd3af6fe8",
   "outputs": [
    {
     "name": "stdout",
     "output_type": "stream",
     "text": [
      "3 is a prime number\n",
      "4 equals 2 * 2\n",
      "5 is a prime number\n",
      "5 is a prime number\n",
      "5 is a prime number\n",
      "6 equals 2 * 3\n",
      "7 is a prime number\n",
      "7 is a prime number\n",
      "7 is a prime number\n",
      "7 is a prime number\n",
      "7 is a prime number\n",
      "8 equals 2 * 4\n",
      "9 is a prime number\n",
      "9 is a prime number\n",
      "9 is a prime number\n",
      "9 is a prime number\n",
      "9 is a prime number\n",
      "9 is a prime number\n",
      "9 is a prime number\n"
     ]
    }
   ],
   "execution_count": 13
  },
  {
   "metadata": {},
   "cell_type": "markdown",
   "source": [
    "## match 语句\n",
    "match 语句接受一个表达式并把它的值与一个或多个 case 块给出的一系列模式进行比较\n",
    "> 只有第一个匹配的模式会被执行，并且它还可以提取值的组成部分（序列的元素或对象的属性）赋给变量"
   ],
   "id": "1395f7de798a0db"
  },
  {
   "metadata": {
    "ExecuteTime": {
     "end_time": "2025-09-14T14:53:26.928336Z",
     "start_time": "2025-09-14T14:53:26.923114Z"
    }
   },
   "cell_type": "code",
   "source": [
    "def http_error(status):\n",
    "    match status:\n",
    "        case 400:\n",
    "            return \"Bad Request\"\n",
    "        case 404:\n",
    "            return \"Not Found\"\n",
    "        case 418:\n",
    "            return \"I'm a teapot\"\n",
    "        case _:\n",
    "            return \"Internal Server Error\"\n",
    "http_error(400)"
   ],
   "id": "bb63fdc6cbc7123e",
   "outputs": [
    {
     "data": {
      "text/plain": [
       "'Bad Request'"
      ]
     },
     "execution_count": 14,
     "metadata": {},
     "output_type": "execute_result"
    }
   ],
   "execution_count": 14
  },
  {
   "metadata": {
    "ExecuteTime": {
     "end_time": "2025-09-14T14:57:47.469846Z",
     "start_time": "2025-09-14T14:57:47.465943Z"
    }
   },
   "cell_type": "code",
   "source": [
    "## 解包赋值的模式可以被用于绑定变量\n",
    "point = (10, 5)\n",
    "match point:\n",
    "    case (0, 0):\n",
    "        print(\"Origin\")\n",
    "    case (0, y):\n",
    "        print(f\"Y={y}\")\n",
    "    case (x, 0):\n",
    "        print(f\"X={x}\")\n",
    "    case (x, y):\n",
    "        print(f\"X={x}, Y={y}\")\n",
    "    case _:\n",
    "        raise ValueError(\"Not a point\")"
   ],
   "id": "822fb3eccb3b78e",
   "outputs": [
    {
     "name": "stdout",
     "output_type": "stream",
     "text": [
      "X=10, Y=5\n"
     ]
    }
   ],
   "execution_count": 17
  },
  {
   "metadata": {
    "ExecuteTime": {
     "end_time": "2025-09-14T15:00:16.182805Z",
     "start_time": "2025-09-14T15:00:16.177678Z"
    }
   },
   "cell_type": "code",
   "source": [
    "class Point:\n",
    "    def __init__(self, x, y):\n",
    "        self.x = x\n",
    "        self.y = y\n",
    "\n",
    "def where_is(point):\n",
    "    match point:\n",
    "        case Point(x=0, y=0):\n",
    "            print(\"Origin\")\n",
    "        case Point(x=0, y=y):\n",
    "            print(f\"Y={y}\")\n",
    "        case Point(x=x, y=0):\n",
    "            print(f\"X={x}\")\n",
    "        case Point():\n",
    "            print(\"Somewhere else\")\n",
    "        case _:\n",
    "            print(\"Not a point\")\n",
    "\n",
    "point = Point(20, 10)\n",
    "where_is(point)"
   ],
   "id": "7b6f0ff973d9b09d",
   "outputs": [
    {
     "name": "stdout",
     "output_type": "stream",
     "text": [
      "Somewhere else\n"
     ]
    }
   ],
   "execution_count": 18
  },
  {
   "metadata": {
    "ExecuteTime": {
     "end_time": "2025-09-14T15:10:48.561796Z",
     "start_time": "2025-09-14T15:10:48.556703Z"
    }
   },
   "cell_type": "code",
   "source": [
    "class Point:\n",
    "    __match_args__ = ('x', 'y1', 'y2')\n",
    "    def __init__(self, x, y1):\n",
    "        self.x = x\n",
    "        self.y = y1\n",
    "\n",
    "\n",
    "match points:\n",
    "    case []:\n",
    "        print(\"No points\")\n",
    "    case [Point(0, 0)]:\n",
    "        print(\"The origin\")\n",
    "    case [Point(x, y)]:\n",
    "        print(f\"Single point {x}, {y}\")\n",
    "    case [Point(0, y1), Point(0, y2)]:\n",
    "        print(f\"Two on the Y axis at {y1}, {y2}\")\n",
    "    case _:\n",
    "        print(\"Something else\")"
   ],
   "id": "851d402c8c3c29ae",
   "outputs": [
    {
     "name": "stdout",
     "output_type": "stream",
     "text": [
      "Something else\n"
     ]
    }
   ],
   "execution_count": 32
  },
  {
   "metadata": {},
   "cell_type": "code",
   "outputs": [],
   "execution_count": null,
   "source": "",
   "id": "707563eb861b1db8"
  }
 ],
 "metadata": {
  "kernelspec": {
   "display_name": "Python 3",
   "language": "python",
   "name": "python3"
  },
  "language_info": {
   "codemirror_mode": {
    "name": "ipython",
    "version": 2
   },
   "file_extension": ".py",
   "mimetype": "text/x-python",
   "name": "python",
   "nbconvert_exporter": "python",
   "pygments_lexer": "ipython2",
   "version": "2.7.6"
  }
 },
 "nbformat": 4,
 "nbformat_minor": 5
}
